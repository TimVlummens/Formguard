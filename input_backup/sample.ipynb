{
 "cells": [
  {
   "cell_type": "code",
   "execution_count": 1,
   "metadata": {},
   "outputs": [],
   "source": [
    "import json\n",
    "import random"
   ]
  },
  {
   "cell_type": "code",
   "execution_count": 2,
   "metadata": {},
   "outputs": [],
   "source": [
    "file_path = \"..\\\\input_backup\\\\donation_pages.json\"\n",
    "output_path = \"..\\\\input_backup\\\\list_codegen_donate.txt\""
   ]
  },
  {
   "cell_type": "code",
   "execution_count": 3,
   "metadata": {},
   "outputs": [],
   "source": [
    "json_results = json.loads(open(file_path, encoding='utf-8').read())\n",
    "txt_file = open(output_path, 'w')"
   ]
  },
  {
   "cell_type": "code",
   "execution_count": 4,
   "metadata": {},
   "outputs": [],
   "source": [
    "number_to_sample = 30\n",
    "sample_indexes = set()\n",
    "\n",
    "for i in range(number_to_sample):\n",
    "    is_unique = False\n",
    "\n",
    "    while not is_unique:\n",
    "        sample_index = random.randrange(0, len(json_results))\n",
    "        if sample_index not in sample_indexes:\n",
    "            is_unique = True\n",
    "            sample_indexes.add(sample_index)\n",
    "\n",
    "samples = []\n",
    "for index in sample_indexes:\n",
    "    sample = json_results[index]\n",
    "    samples.append(sample)\n",
    "    txt_file.write(sample)\n",
    "    txt_file.write(\"\\n\")"
   ]
  },
  {
   "cell_type": "code",
   "execution_count": 5,
   "metadata": {},
   "outputs": [],
   "source": [
    "txt_file.close()"
   ]
  }
 ],
 "metadata": {
  "kernelspec": {
   "display_name": "Python 3",
   "language": "python",
   "name": "python3"
  },
  "language_info": {
   "codemirror_mode": {
    "name": "ipython",
    "version": 3
   },
   "file_extension": ".py",
   "mimetype": "text/x-python",
   "name": "python",
   "nbconvert_exporter": "python",
   "pygments_lexer": "ipython3",
   "version": "3.10.7"
  }
 },
 "nbformat": 4,
 "nbformat_minor": 2
}
