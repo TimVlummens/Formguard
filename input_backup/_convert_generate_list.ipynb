{
 "cells": [
  {
   "cell_type": "code",
   "execution_count": 36,
   "metadata": {},
   "outputs": [],
   "source": [
    "import csv\n",
    "import random\n",
    "\n",
    "# Declare the file that needs to be loaded\n",
    "filePath = \"current_240710.csv\"\n",
    "outputPath = \"list_codegen_login.txt\"\n",
    "\n",
    "outputSize1k = 20\n",
    "outputSize10k = 20\n",
    "outputSize100k = 20"
   ]
  },
  {
   "cell_type": "code",
   "execution_count": 37,
   "metadata": {},
   "outputs": [],
   "source": [
    "def getSamples(size, rangeStart, rangeStop):\n",
    "    samples = []\n",
    "\n",
    "    for i in range(size):\n",
    "        while True:\n",
    "            sample = random.randrange(rangeStart, rangeStop)\n",
    "            if sample not in samples:\n",
    "                samples.append(sample)\n",
    "                break\n",
    "    return samples"
   ]
  },
  {
   "cell_type": "code",
   "execution_count": 38,
   "metadata": {},
   "outputs": [],
   "source": [
    "csvFile = open(filePath)\n",
    "reader = csv.reader(csvFile)\n",
    "\n",
    "txtFile = open(outputPath, 'w')"
   ]
  },
  {
   "cell_type": "code",
   "execution_count": 39,
   "metadata": {},
   "outputs": [
    {
     "name": "stdout",
     "output_type": "stream",
     "text": [
      "[34166, 50942, 55510, 55930, 62452, 80169, 85323, 90685, 92183, 93466]\n"
     ]
    }
   ],
   "source": [
    "samples1k = getSamples(outputSize1k, 0, 1000)\n",
    "samples10k = getSamples(outputSize10k, 1000, 10000)\n",
    "samples100k = getSamples(outputSize100k, 10000, 100000)\n",
    "\n",
    "samples_index = samples1k + samples10k + samples100k\n",
    "samples_index.sort()\n",
    "print(samples_index)\n",
    "\n",
    "total_samples = outputSize1k + outputSize10k + outputSize100k\n",
    "\n",
    "count_samples = 0\n",
    "count_row = 0\n",
    "\n",
    "for row in reader:\n",
    "    if (count_row-1) in samples_index:\n",
    "        txtFile.write(row[0])\n",
    "        count_samples += 1\n",
    "        if count_samples >= total_samples:\n",
    "            break\n",
    "        txtFile.write(\"\\n\")\n",
    "\n",
    "    count_row += 1\n",
    "\n",
    "    if count_row >= 100000:\n",
    "        print(\"Not all samples found, stopping after index 100.000\")\n",
    "        break\n"
   ]
  },
  {
   "cell_type": "code",
   "execution_count": 40,
   "metadata": {},
   "outputs": [],
   "source": [
    "csvFile.close()\n",
    "txtFile.close()"
   ]
  }
 ],
 "metadata": {
  "kernelspec": {
   "display_name": "Python 3",
   "language": "python",
   "name": "python3"
  },
  "language_info": {
   "codemirror_mode": {
    "name": "ipython",
    "version": 3
   },
   "file_extension": ".py",
   "mimetype": "text/x-python",
   "name": "python",
   "nbconvert_exporter": "python",
   "pygments_lexer": "ipython3",
   "version": "3.10.7"
  },
  "vscode": {
   "interpreter": {
    "hash": "369f2c481f4da34e4445cda3fffd2e751bd1c4d706f27375911949ba6bb62e1c"
   }
  }
 },
 "nbformat": 4,
 "nbformat_minor": 4
}
