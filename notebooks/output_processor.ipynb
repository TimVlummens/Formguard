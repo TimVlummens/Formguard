{
 "cells": [
  {
   "cell_type": "code",
   "execution_count": 7,
   "metadata": {},
   "outputs": [],
   "source": [
    "import pickle as pkl\n",
    "import pandas as pd"
   ]
  },
  {
   "cell_type": "code",
   "execution_count": 8,
   "metadata": {},
   "outputs": [],
   "source": [
    "# detector_output = \"../notebooks/detector_output/output_leaks_df.pkl\"\n",
    "# detector_output = \"../notebooks/detector_output/output_backup_leaks_df.pkl\"\n",
    "# detector_output = \"../notebooks/detector_output/output_detect_js_cookie_leaks.pkl\"\n",
    "# detector_output = \"../notebooks/detector_output/output_backup_sniffs.pkl\"\n",
    "\n",
    "original_output = \"../notebooks/detector_output/output_leaks_df.pkl\"\n",
    "\n",
    "new_output = \"../notebooks/detector_output/output_codegen_leaks_df.csv\"\n",
    "successfull_sites = \"../notebooks/detector_output/_successful_sites.txt\"\n",
    "\n",
    "results_folder = \"../notebooks/results/\"\n",
    "file_name = \"compare\"\n",
    "version = \"0\""
   ]
  },
  {
   "cell_type": "code",
   "execution_count": 9,
   "metadata": {},
   "outputs": [],
   "source": [
    "successfull_site_urls = set()\n",
    "\n",
    "for w in open(successfull_sites, \"r\", encoding=\"utf-8\").read().splitlines():\n",
    "    successfull_site_urls.add(w.lower())\n",
    "\n",
    "successfull_site_urls = list(successfull_site_urls)\n",
    "# print(urls)"
   ]
  },
  {
   "cell_type": "code",
   "execution_count": 10,
   "metadata": {},
   "outputs": [],
   "source": [
    "df_og = pd.read_pickle(original_output)\n",
    "column_subset = [\n",
    "        'search', 'search_type', 'encoding', 'leak_type', 'final_url',\n",
    "        'final_url_domain', 'initial_hostname', 'last_page_domain', 'request_url_domain', 'third_party_req',\n",
    "        'is_req_sent_after_fill', 'is_any_field_filled', 'request_type', 'email_sniffed', 'pwd_sniffed']\n",
    "\n",
    "if new_output == \"\":\n",
    "    df_og.to_csv(results_folder + file_name+ \"_\" + \"original\" + \".csv\", index = False)\n",
    "else:\n",
    "    df_new = pd.read_csv(new_output)\n",
    "\n",
    "    result_df = pd.concat([df_og, df_new]).drop_duplicates(keep=False, subset=column_subset)\n",
    "    # initial url is found in successful urls\n",
    "    result_df = result_df[result_df['initial_hostname'].isin(successfull_site_urls)]\n",
    "\n",
    "\n",
    "    result_df.to_csv(results_folder + file_name+ \"_\" + version + \".csv\", index = False)\n",
    "\n",
    "    # result_df = df_og.merge(df_new, how='left', indicator=True)\n",
    "    # result_df = result_df.drop_duplicates(keep=False, subset=column_subset)\n",
    "\n",
    "    if result_df.empty:\n",
    "        print('No differences found!')\n",
    "    # else:\n",
    "    #     result_left = result_df[result_df['_merge'] == 'left_only'].drop(columns='_merge')\n",
    "    #     result_left.to_csv(results_folder + file_name+ \"_left\" + version + \".csv\", index = False)\n",
    "    #     if result_left.empty:\n",
    "    #         print('No removed lines.')\n",
    "    #     result_right = result_df[result_df['_merge'] == 'right_only'].drop(columns='_merge')\n",
    "    #     result_right.to_csv(results_folder + file_name+ \"_right\" + version + \".csv\", index = False)\n",
    "    #     if result_right.empty:\n",
    "    #         print('No new lines.')"
   ]
  }
 ],
 "metadata": {
  "kernelspec": {
   "display_name": "Python 3",
   "language": "python",
   "name": "python3"
  },
  "language_info": {
   "codemirror_mode": {
    "name": "ipython",
    "version": 3
   },
   "file_extension": ".py",
   "mimetype": "text/x-python",
   "name": "python",
   "nbconvert_exporter": "python",
   "pygments_lexer": "ipython3",
   "version": "3.10.7"
  }
 },
 "nbformat": 4,
 "nbformat_minor": 2
}
